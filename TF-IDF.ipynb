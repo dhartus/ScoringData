{
 "cells": [
  {
   "cell_type": "markdown",
   "metadata": {},
   "source": [
    "# Part 1: Modeling Text"
   ]
  },
  {
   "cell_type": "markdown",
   "metadata": {},
   "source": [
    "### TF-IDF\n",
    "\n",
    "\n",
    "First, we download the review.json file from the Resources tab on Piazza, a collection of about 7,000 Yelp reviews we sampled from the [Yelp Dataset Challenge](https://www.yelp.com/dataset_challenge). Each line corresponds to a review on a particular business. Each review has a unique \"ID\" and the text content is in the \"review\" field. We will load the json file first. We already have done some basic preprocessing on the reviews, so we can just tokenize each review using whitespace."
   ]
  },
  {
   "cell_type": "markdown",
   "metadata": {},
   "source": [
    "`TF = number of times word occurs in a review`\n",
    "\n",
    "`IDF = log(total number of review / number of reviews containing the word)`"
   ]
  },
  {
   "cell_type": "markdown",
   "metadata": {},
   "source": [
    "### A) Ranking with simple sums of TF-IDF scores\n",
    "\n",
    "To start out with, for a multi-word query, we rank documents by a simple sum of the TF-IDF scores for the query terms in the review. "
   ]
  },
  {
   "cell_type": "code",
   "execution_count": 22,
   "metadata": {},
   "outputs": [],
   "source": [
    "import json\n",
    "import math\n",
    "from queue import PriorityQueue\n",
    "from collections import Counter\n",
    "from collections import deque\n",
    "\n",
    "#  PreProcess Data - calculating IDF for all words in all reviews\n",
    "idf = dict()  # Stores the idf of each word\n",
    "reviews_with_word = dict()  # Stores the count of word in all the reviews. This is req for tf calculation\n",
    "totalreviews = 0\n",
    "total_words_inallreviews = 0\n",
    "with open(\"review.json\", \"r\") as json_file:\n",
    "    totalreviews = sum(1 for line in json_file)\n",
    "\n",
    "with open(\"review.json\", \"r\") as json_file:\n",
    "    for line in json_file:\n",
    "        cur_review = json.loads(line)\n",
    "        total_words_inallreviews += len(list(cur_review[\"review\"].split()))\n",
    "        unique_words = set(cur_review[\"review\"].split())\n",
    "        for word in unique_words:\n",
    "            reviews_with_word[word] = reviews_with_word.get(word, 0) + 1\n",
    "\n",
    "for word in reviews_with_word:\n",
    "    idf[word] = math.log(totalreviews/reviews_with_word.get(word))\n",
    "\n",
    "averagereviewlength = total_words_inallreviews/totalreviews\n",
    "\n",
    "\n",
    "def calculate(listofwords, numberofreviews_to_display, scoring):\n",
    "\n",
    "    # For each review in json file , calculate tf + idf score and store in queue\n",
    "    q = PriorityQueue()\n",
    "    with open(\"review.json\", \"r\") as json_file:\n",
    "        for line in json_file:\n",
    "            cur_review = json.loads(line)\n",
    "\n",
    "            # Calculate tf idf score for each word in list\n",
    "            tfidf_score = 0  # Initialise tfidf score for current review\n",
    "            docmagnitude = 0  # For cosine scoring , docmagnitude is sum of (tfidf of all words in current review) ** 2\n",
    "            doc_vector = list()  # For cosine scoring , list of tfidf of all query words, in the current review\n",
    "            query_vector = list()  # For cosine scoring , list of count of words in the query. e.g best best bbq -> [2 1]\n",
    "            bm25score = 0\n",
    "            length_of_current_review = 0\n",
    "            wordsincur_review = list(cur_review[\"review\"].split())\n",
    "            if scoring == \"bm25\":\n",
    "                length_of_current_review = len(wordsincur_review)\n",
    "            if scoring == \"cosine\":\n",
    "                for word in wordsincur_review:\n",
    "                    tf = wordsincur_review.count(word)\n",
    "                    tfidf = tf * idf[word]\n",
    "                    docmagnitude += tfidf ** 2\n",
    "\n",
    "            for word in listofwords:\n",
    "                tf = wordsincur_review.count(word)\n",
    "                tfidf = tf * idf[word]  # tfidf for current word in current review\n",
    "                tfidf_score += tfidf    # tfidf score for all words in current review\n",
    "                if scoring == \"cosine\":\n",
    "                    query_vector.append(listofwords.count(word))\n",
    "                    doc_vector.append(tfidf)\n",
    "                if scoring == \"bm25\":\n",
    "                    bm25score += getbm25(tf, idf[word], length_of_current_review)\n",
    "\n",
    "            score = 0\n",
    "            if scoring == \"tfidf\":\n",
    "                score = tfidf_score\n",
    "            elif scoring == \"cosine\":\n",
    "                score = getcosine(doc_vector, query_vector, docmagnitude)\n",
    "            elif scoring == \"bm25\":\n",
    "                score = bm25score\n",
    "\n",
    "            # Save top reviews in a queue\n",
    "            if q.qsize() < numberofreviews_to_display:\n",
    "                q.put((score, cur_review[\"review\"]))\n",
    "\n",
    "            else:\n",
    "                minscore = q.get()\n",
    "                if tfidf_score > minscore[0]:\n",
    "                    q.put((score, cur_review[\"review\"]))\n",
    "                else:\n",
    "                    q.put(minscore)\n",
    "    return q\n",
    "\n",
    "\n",
    "def getbm25(tf, idf, length_of_current_review):\n",
    "    \"\"\"\n",
    "    k = 1.2\n",
    "    b = 0.75\n",
    "    bm25 = idf * tf * (1+k) / tf + (k * ( 1 - b + (b * (|D| / avgdl) ) ) )\n",
    "    :param tf: tf score\n",
    "    :param idf: idf score\n",
    "    :param length_of_current_review: length\n",
    "    :return:bm25\n",
    "    \"\"\"\n",
    "    k = 1.2\n",
    "    b = 0.75\n",
    "    bm25 = (idf * (tf * (1+k))) / (tf + (k * (1 - b + (b * (length_of_current_review / averagereviewlength)))))\n",
    "    return bm25\n",
    "\n",
    "\n",
    "def getcosine(doc_vector, query_vector, docmagnitude):\n",
    "    \"\"\"\n",
    "    Cosine(query, document) = DotProduct(query, document) / || query || * || doc ||\n",
    "    :param doc_vector: For cosine scoring , list of tfidf of all query words, in the current review\n",
    "    :param query_vector: For cosine scoring , list of count of words in the query. e.g best best bbq -> [2 1]\n",
    "    :param docmagnitude: For cosine scoring , docmagnitude is sum of (tfidf of all words in current review) ** 2\n",
    "    :return: Cosine value\n",
    "    \"\"\"\n",
    "    if len(doc_vector) == 0 or len(query_vector) == 0:\n",
    "        return 0\n",
    "\n",
    "    dot_product = 0\n",
    "    for i in range(len(doc_vector)):\n",
    "        dot_product += doc_vector[i] * query_vector[i]\n",
    "\n",
    "    mag_query = math.sqrt(sum(num**2 for num in query_vector))\n",
    "    mag_doc = math.sqrt(docmagnitude)\n",
    "    cos = dot_product / (mag_query * mag_doc)\n",
    "    return cos\n",
    "\n",
    "\n",
    "def score_documents(testquery: str, scoring: str, num_of_reviews_to_display: int):\n",
    "    listofwords = testquery.split()\n",
    "    top_reviews = calculate(listofwords, num_of_reviews_to_display, scoring)\n",
    "    stack = deque()\n",
    "    while not top_reviews.empty():\n",
    "        stack.append(top_reviews.get())\n",
    "    while stack:\n",
    "        score, review = stack.pop()\n",
    "        print(score)\n",
    "        print(review)\n",
    "        print(\"\\n\")\n"
   ]
  },
  {
   "cell_type": "code",
   "execution_count": 23,
   "metadata": {},
   "outputs": [
    {
     "name": "stdout",
     "output_type": "stream",
     "text": [
      "26.319774733191345\n",
      "actually i d put it at 4 1 2 stars not perfect but prety good food can t say i m an alice cooper fan but we did see this on man vs food and the opportunity came up to go there we stopped in mid week for lunch not crowded the bar tender was great attentive personable good recommendations on food but not intrusive my wife had the lady gaga sausage appetizer fantastic sausage spicy great sauce served with celery stalks and bleu cheese optional she likes a good sausage let s leave it at that and alice cooper delivered since the bartender claimed the place is a bbq house i went with a bbq beef sandwich with chili and fries for the sides while the pig in me would have wanted more of everything it was the perfect size for lunch the brisket was done perfectly we travel with a smoker so i know a little about bbq the bbq sauce is very good i d like it spicier but i always do the sauce is multidimensional with some real depth to the bench it s not a one trick pony bbq sauce the sauce is also not thick like ketchup it s definitely not off the shelf the chili two words a mazing a few weeks ago we were at a chili cook off cooper s town chili would have kicked some butt again could have been spicier but there was some heat and there was lots of flavor could definitely taste a hint of the bbq sauce cumin and chili saw what looked like slices of anaheim or serrano pepper and it has beans again seems to not have any thickener in it i appreciate that a clean flavor next time the chili burger will be ordered the side portion is just too damn small this stuff is good prices are decent lunch for the 2 of us for just over 20 can t complain about that the decor is nice cool memorabilia autographs on the wall definitely a sports bar with huge damn screens nice place nice time thanks \n",
      "\n",
      "\n",
      "21.933145610992785\n",
      "the real deal i m from east tennessee and our bbq is north carolina style after moving out to tempe in 95 i thought i d never see good bbq but honey bear s changed that they could hold their own in the south honey bears is n carolina style bbq and the real deal not cooked with spice sauce until you put it on the meat go for the pork this is what they do skip the beef and chicken it s for the bbq illiterate same with the folks who complained about having to put the sauce to the meat or not having fries you do not know southern bbq for those who do enjoy \n",
      "\n",
      "\n"
     ]
    }
   ],
   "source": [
    "score_documents(\"best bbq\", \"tfidf\", 2)"
   ]
  },
  {
   "cell_type": "code",
   "execution_count": 24,
   "metadata": {},
   "outputs": [
    {
     "name": "stdout",
     "output_type": "stream",
     "text": [
      "22.201231889774093\n",
      "well it s probably all been said and been done about this place today i finally made the trip inside the store rather than just going to the restaurant on the side it was too early for lunch at tradiciones so in i went i knew that the market had a lot going on at all times i nearly run down at least 6 people getting in and out of the parking lot and i m a really good driver seriously not raymond from rain man good but actually good the parking lot on the store side is always packed so the focus of my trip was the cucina it was bustling for lunch already at just 10 30 so as i m trying to make sense of the menus posted in both spanish and english on the wall above the hot food line or whatever i am greeted by a nice woman that helps me decide where to go she mentioned sopes first so that s what i started with my order was way too much food for one but i wanted to try a couple of things so i got both a chicken and a steak sopa a street taco al pastor pork and a side of beans they did have combos unlike another reviewer said but i only wanted to add beans an opted for a side instead my total for food was 11 00 not super cheap but like i said more food than i would normally order at once so a sope for those unfamilar is not a torta as someone else said it s more like a weird tostada or open faced sandwich the base is somewhere between a corn tortilla and an all out bread it does appear to be flash fried to cook but i m not totally sure and it didn t feel greasy the sides are curved to make a small cup to fill with beans meat of choice topped with shredded lettuce grated cojita cheese i d describe mexican parm hard salty and good the chicken and steak were both tasty the steak was a little strung together if you will i d rather have seen it be chopped better so i would be easier to eat smaller bites if your teeth didn t make it through that bite a big chunk was coming along with it sorta messy but good though i felt like my sopa was a bit tougher than it should be and my extra cheap plastic fork would bend to the will of the sope the street taco was just so i could taste the al pastor two tiny corn tortillas topped with a bit of pork i topped it with onions and cilantro and would totally eat the al pastor in another dish beans not a really a fan they lacked the taste of say carolina s beans though the texture matched a disappointment salsa bar was good hot green and red and the pico was spicy too fresh onions and chopped cilantro are a must so it was good to have those agua fresca just love it i had the fresh guava juice so tasty and well worth the additional 2 91 i spent for the 32oz drink total food and drink 13 91 a little spendy for lunch served in stryo while seated on a bench but it was fun and i will order a little differently next time so it won t be as expensive and i won t order more food than i can eat market looks good great looking bakery really meat counter tortilla factory etc i ll probably not go out of my way to get there for things i can buy at food city on a regular day this does look like a fun way to go get some lunch before you shop for dinner on a weekend i ll definitely take others for hot food and a fun people watching experience plus pick up a few goods on the way i don t really know about authentic it s probably not i don t really care my dad s family is from near the mexican border and though i ve been to mercados in mexico and even here i liked that this place is busy and clean campy sure but like i care \n",
      "\n",
      "\n",
      "20.014087913721344\n",
      "the line moved fast the food looked fresh the menu is ample the child menu is short and fare priced the sandwiches are a lot better priced than chompies i had the honey baked ham sandwich i know it s a jewish deli for the most part but if you offer it make it good okay it was alright the ham was thin sliced and tasty the bun however was not so good and the lettuce not so crisp my friend had a chef salad and well it did not look very fresh either the cheese was sort of melting back together though it had cute little cut out shapes the lettuce not so crisp once again the child with us seemed to enjoy the kid serving of mac and cheese and was able to finish it so the portion size was good for a 6 yo i did notice that a lot of people seemed to not eat all or any of the bread or bun their meal was on so though i m picky it appears to be a fair assessment that there is an issue with all the bread other than the rye oh and the fact that a kids meal comes with soda is an issue you have to pay more to give your kid a milk that astonished me so much for healthy america kid s meal comes with a cookie french fries yes with mac cheese and pop i feel the children getting fatter reading the menu so this saturday lunch snatched 25 from us for a chef salad from like two days ago a ham sandwich on 2 day old bread and a fatten up you child kid s meal with milk and one adult small soda would have had a better sandwich and salad at subway for a lot less but i suppose if you try something else on the menu it might be worth the visit \n",
      "\n",
      "\n"
     ]
    }
   ],
   "source": [
    "score_documents(\"kid fun and food\", \"tfidf\", 2)"
   ]
  },
  {
   "cell_type": "markdown",
   "metadata": {},
   "source": [
    "### B) Ranking with TF-IDF + Cosine\n",
    "\n",
    "Instead of using the sum of TF-IDF scores, let's try the classic cosine approach for ranking. You should still use the TF-IDF scores to weigh each term, but now use the cosine between the query vector and the document vector to assign a similarity score. You can try the same two queries as before and report the results. (Top-10 reviews which are similar to the query)"
   ]
  },
  {
   "cell_type": "code",
   "execution_count": 25,
   "metadata": {},
   "outputs": [
    {
     "name": "stdout",
     "output_type": "stream",
     "text": [
      "0.42640446015289\n",
      "best food best service great prices \n",
      "\n",
      "\n",
      "0.02062166353352264\n",
      "one of my all time favorite spots the basement bar is fantastic the atmosphere the service the music the fireplace the comfortable bar stools the clientele are all great generally my wife and i have gone here for reverse hh 5 wine and 5 small plates you cannot miss with the tri color roasted pepper bruschetta truth be told we rarely stick to just the hh items i can t resist the rokerij salad a magical wedge get it with the turkey and a good g t a nice pour and a 4 5 oz bottle of fever tree tonic if hh isn t your thing go for brunch or dinner as we finally did last sunday a group of six of us came in for dinner aside from an awesome meal and great service thank you jamie we lucked into coming in on a day when they were serving green chile stew spice tastic and 1 2 off bottles of wine what it was fantastic my wife loved the smoked turkey and the green chile pork enchiladas thanks richardson s and another member of the party claimed the top sirloin was the best she d ever had a great night was had by all if you haven t tried this place you are missing out \n",
      "\n",
      "\n"
     ]
    }
   ],
   "source": [
    "score_documents(\"best bbq\", \"cosine\", 2)"
   ]
  },
  {
   "cell_type": "code",
   "execution_count": 26,
   "metadata": {},
   "outputs": [
    {
     "name": "stdout",
     "output_type": "stream",
     "text": [
      "0.38678092826505023\n",
      "fun and friendly staff \n",
      "\n",
      "\n",
      "0.0010161170323554375\n",
      "we could not have been happier i took my broken globe from an antique lamp to wizard of odz not really believing i would ever find a globe to match the second one on the lamp the woman who greeted us was great looked at the globe took off across the store wanted to know how many then brought one had three that was an exact match the cost was 10 could have chaged so much more we saw some very negative reviews and wanted to make certain that we share our very positive experience nyla dave\n",
      "\n",
      "\n"
     ]
    }
   ],
   "source": [
    "score_documents(\"kid fun and food\", \"cosine\", 2)"
   ]
  },
  {
   "cell_type": "markdown",
   "metadata": {},
   "source": [
    "### C) Ranking with BM25\n",
    "\n",
    "Refered [https://en.wikipedia.org/wiki/Okapi_BM25](https://en.wikipedia.org/wiki/Okapi_BM25) for the specific formula. Chose k_1 = 1.2 and b = 0.75.\n"
   ]
  },
  {
   "cell_type": "code",
   "execution_count": 27,
   "metadata": {},
   "outputs": [
    {
     "name": "stdout",
     "output_type": "stream",
     "text": [
      "9.721870551819865\n",
      "hmmm just having read all the reviews so far i m wondering if i liked this place as much as i think i did i do recall the bbq sauce being a little but too spicy for my taste but i think overall i really liked my bbq sandwich i ate at honey bear s or wait did i have the ribs shoot i think i had both it wasn t my favorite but it was good and i d go back again but i don t know bbq like some of you reviewers know bbq so maybe i m not the best review to take into consideration \n",
      "\n",
      "\n",
      "4.991527303398323\n",
      "i was in town for training at epic wanted a bar with good food to watch baseball playoffs i remembered the nitty gritty near campus from a previous visit so tried the one in middleton close to my hotel bbq pulled pork sandwich outstanding waffle fries excellent capital amber draft very good atmosphere fun service great too bad it wasn t my birthday it seemed that everyone there had a birthday celebration in the group that s their thing i ll go back even if it s not my birthday \n",
      "\n",
      "\n"
     ]
    }
   ],
   "source": [
    "score_documents(\"best bbq\", \"bm25\", 2)\n"
   ]
  },
  {
   "cell_type": "code",
   "execution_count": 28,
   "metadata": {},
   "outputs": [
    {
     "name": "stdout",
     "output_type": "stream",
     "text": [
      "7.921666022538528\n",
      "a friend surprised me with a trip here one day i decided to try out their silver admission cuz they had a check in offer omg so much fun for less than half the price of going to a big 6 flags or something you can get most of the same stuff here with rarely any lines when i went in the evening there were no lines honestly with the amount of time wasted at big parks in lines you get sooo much more here water rides coasters arcade huge mini golf course i only got half way and a zip line i felt like i was a kid again \n",
      "\n",
      "\n",
      "1.5458654633857807\n",
      "was not feeling well yesterday so i ordered some food online for delivery from chang jiang originally i though i had enough cash to pay for the order but realized as i was finishing my online order i d have to pay by credit card i took the 23 and threw on the table next to the door so i could tip in cash when the guy delivered btw he was in my neighbors driveway about 2 feet into his lawn i grabbed what i though was a 3 tip woke up this morning and realized that i had given him 23 instead of 3 i forgot to remove the 20 bill when i handed him the cash i didn t look at it like i said i was sick i called this morning to and began the conversation with him like this hi you delivered food to me yesterday on ____ st and i think i may have mistakenly given you too much for the tip he started yelling in to the phone that i gave him a 3 tip not a 23 dollar tip he was ranting and raving the weird part is that i had not even said the amount i though i had mistakingly tipped him i was talking calmly and he was ranting that i also had stolen his pen from him a 20 cent pen why would someone react like that to a simple inquiry i was not accusatory i was simply inquiring and then for him to say he wanted to come over and pick up the pen i had taken from him wtf ever heard of karma dude \n",
      "\n",
      "\n"
     ]
    }
   ],
   "source": [
    "score_documents(\"kid fun and food\", \"bm25\", 2)"
   ]
  },
  {
   "cell_type": "markdown",
   "metadata": {},
   "source": [
    "A discussion on the three methods:\n",
    "\n",
    "TF*IDF method:\n",
    "It is the simplest method to implement. However the top match for \"best bbq\" was just a review with \"bbq\" ie the rarer term, mentioned 6 times which is to be expected given that rarer terms have large IDF. There was no penalty for a longer document, top scoring doc is a 358 word review, it scores high only because of the rarer term mentioned more number of times, however this approch will skew results towards longer documents which will obviously mention a term more often. An approach with some doc normalisation will give better results.\n",
    "\n",
    "Cosine Method: \n",
    "This method takes care of document normalisation by using the doc_mag (the length of the doc to normalise the tf*idf score).\n",
    "Takes more computation because tf idf score is to be calculated for each term in each doc for normalisation.\n",
    "Cosine method's highest rated review for \"best bbq\" is just a short document with one term ie \"best\" even though \"best\" has lower idf than \"bbq\". Short doc length is over weighted/preferred in cosine approach. This approach severely penalises documents that are slightly longer and chooses one of the shortest docs as the best.\n",
    "\n",
    "BM-25: \n",
    "Seems to be the best method in terms of computation cycles and extracting most important document.\n",
    "Does not involve either the computation intensive ways of cosine doc normalisation (normalisation is with simple doc length) nor is it heavily skewed in favor of rarer terms.\n",
    "Best rated document for \"best bbq\" was a relatively short doc length of 110 words, with bbq freq=4 and best freq=1. This was the most pertinent and relevant doc for the given query."
   ]
  }
 ],
 "metadata": {
  "kernelspec": {
   "display_name": "Python 3",
   "language": "python",
   "name": "python3"
  },
  "language_info": {
   "codemirror_mode": {
    "name": "ipython",
    "version": 3
   },
   "file_extension": ".py",
   "mimetype": "text/x-python",
   "name": "python",
   "nbconvert_exporter": "python",
   "pygments_lexer": "ipython3",
   "version": "3.8.5"
  }
 },
 "nbformat": 4,
 "nbformat_minor": 2
}
